{
 "cells": [
  {
   "cell_type": "markdown",
   "id": "1fcb5a5c95e6a695",
   "metadata": {},
   "source": [
    "This notebook is for creating summary plots of stream metabolism parameters estimated from dissolved oxygen time series using the BASEmetab package of Grace et al. (2015). In-situ measurements collected from East Fork Creek in Franklin, TN by John C. Ayers, Weizhuo Jing, Kevin Chen, Ella Daugherty, and Gabriel Perez.  \n",
    "Reference:\n",
    "Grace MR, Giling DP, Hladyz S, et al (2015) Fast processing of diel oxygen curves: Estimating stream metabolism with BASE (BAyesian Single-station Estimation). Limnol. Oceanogr. methods / 13:e10011\n"
   ]
  },
  {
   "cell_type": "code",
   "execution_count": 3,
   "id": "2ea2cdff782e0c41",
   "metadata": {
    "ExecuteTime": {
     "end_time": "2023-09-13T20:08:40.270143200Z",
     "start_time": "2023-09-13T20:08:40.149174700Z"
    },
    "collapsed": false,
    "jupyter": {
     "outputs_hidden": false
    }
   },
   "outputs": [
    {
     "data": {
      "text/html": [
       "<div>\n",
       "<style scoped>\n",
       "    .dataframe tbody tr th:only-of-type {\n",
       "        vertical-align: middle;\n",
       "    }\n",
       "\n",
       "    .dataframe tbody tr th {\n",
       "        vertical-align: top;\n",
       "    }\n",
       "\n",
       "    .dataframe thead th {\n",
       "        text-align: right;\n",
       "    }\n",
       "</style>\n",
       "<table border=\"1\" class=\"dataframe\">\n",
       "  <thead>\n",
       "    <tr style=\"text-align: right;\">\n",
       "      <th></th>\n",
       "      <th>Date</th>\n",
       "      <th>Device</th>\n",
       "      <th>GPP.mean</th>\n",
       "      <th>GPP.sd</th>\n",
       "      <th>GPP.median</th>\n",
       "      <th>ER.mean</th>\n",
       "      <th>ER.sd</th>\n",
       "      <th>ER.median</th>\n",
       "      <th>NEP.mean</th>\n",
       "      <th>NEP.sd</th>\n",
       "      <th>NEP.median</th>\n",
       "      <th>PR.mean</th>\n",
       "      <th>PR.sd</th>\n",
       "      <th>PR.median</th>\n",
       "      <th>K.mean</th>\n",
       "      <th>K.sd</th>\n",
       "      <th>K.median</th>\n",
       "    </tr>\n",
       "  </thead>\n",
       "  <tbody>\n",
       "    <tr>\n",
       "      <th>0</th>\n",
       "      <td>5/24/2022</td>\n",
       "      <td>MiniDOT</td>\n",
       "      <td>9.724921</td>\n",
       "      <td>0.397755</td>\n",
       "      <td>9.718426</td>\n",
       "      <td>24.543829</td>\n",
       "      <td>1.016071</td>\n",
       "      <td>24.540043</td>\n",
       "      <td>-14.818908</td>\n",
       "      <td>0.681979</td>\n",
       "      <td>-14.815466</td>\n",
       "      <td>0.396303</td>\n",
       "      <td>0.007375</td>\n",
       "      <td>0.396179</td>\n",
       "      <td>9.444339</td>\n",
       "      <td>0.405853</td>\n",
       "      <td>9.434647</td>\n",
       "    </tr>\n",
       "    <tr>\n",
       "      <th>1</th>\n",
       "      <td>5/25/2022</td>\n",
       "      <td>MiniDOT</td>\n",
       "      <td>8.379095</td>\n",
       "      <td>0.353796</td>\n",
       "      <td>8.366785</td>\n",
       "      <td>26.166950</td>\n",
       "      <td>1.059195</td>\n",
       "      <td>26.162258</td>\n",
       "      <td>-17.787855</td>\n",
       "      <td>0.742909</td>\n",
       "      <td>-17.782109</td>\n",
       "      <td>0.320234</td>\n",
       "      <td>0.005074</td>\n",
       "      <td>0.320231</td>\n",
       "      <td>11.687572</td>\n",
       "      <td>0.469452</td>\n",
       "      <td>11.682121</td>\n",
       "    </tr>\n",
       "    <tr>\n",
       "      <th>2</th>\n",
       "      <td>5/26/2022</td>\n",
       "      <td>MiniDOT</td>\n",
       "      <td>7.016506</td>\n",
       "      <td>0.506425</td>\n",
       "      <td>7.000212</td>\n",
       "      <td>32.861249</td>\n",
       "      <td>2.302127</td>\n",
       "      <td>32.816748</td>\n",
       "      <td>-25.844743</td>\n",
       "      <td>1.853357</td>\n",
       "      <td>-25.812503</td>\n",
       "      <td>0.213585</td>\n",
       "      <td>0.006465</td>\n",
       "      <td>0.213687</td>\n",
       "      <td>14.972180</td>\n",
       "      <td>1.058652</td>\n",
       "      <td>14.938265</td>\n",
       "    </tr>\n",
       "    <tr>\n",
       "      <th>3</th>\n",
       "      <td>6/4/2022</td>\n",
       "      <td>Exo2</td>\n",
       "      <td>14.578490</td>\n",
       "      <td>0.542414</td>\n",
       "      <td>14.574772</td>\n",
       "      <td>19.262054</td>\n",
       "      <td>0.773292</td>\n",
       "      <td>19.257909</td>\n",
       "      <td>-4.683564</td>\n",
       "      <td>0.359292</td>\n",
       "      <td>-4.670982</td>\n",
       "      <td>0.757041</td>\n",
       "      <td>0.012617</td>\n",
       "      <td>0.756872</td>\n",
       "      <td>8.885572</td>\n",
       "      <td>0.328489</td>\n",
       "      <td>8.881961</td>\n",
       "    </tr>\n",
       "    <tr>\n",
       "      <th>4</th>\n",
       "      <td>6/5/2022</td>\n",
       "      <td>Exo2</td>\n",
       "      <td>12.011935</td>\n",
       "      <td>0.439199</td>\n",
       "      <td>12.006980</td>\n",
       "      <td>15.501951</td>\n",
       "      <td>0.622592</td>\n",
       "      <td>15.497732</td>\n",
       "      <td>-3.490016</td>\n",
       "      <td>0.306524</td>\n",
       "      <td>-3.487460</td>\n",
       "      <td>0.775103</td>\n",
       "      <td>0.014233</td>\n",
       "      <td>0.775022</td>\n",
       "      <td>6.800502</td>\n",
       "      <td>0.257384</td>\n",
       "      <td>6.796968</td>\n",
       "    </tr>\n",
       "  </tbody>\n",
       "</table>\n",
       "</div>"
      ],
      "text/plain": [
       "        Date   Device   GPP.mean    GPP.sd  GPP.median    ER.mean     ER.sd  \\\n",
       "0  5/24/2022  MiniDOT   9.724921  0.397755    9.718426  24.543829  1.016071   \n",
       "1  5/25/2022  MiniDOT   8.379095  0.353796    8.366785  26.166950  1.059195   \n",
       "2  5/26/2022  MiniDOT   7.016506  0.506425    7.000212  32.861249  2.302127   \n",
       "3   6/4/2022     Exo2  14.578490  0.542414   14.574772  19.262054  0.773292   \n",
       "4   6/5/2022     Exo2  12.011935  0.439199   12.006980  15.501951  0.622592   \n",
       "\n",
       "   ER.median   NEP.mean    NEP.sd  NEP.median   PR.mean     PR.sd  PR.median  \\\n",
       "0  24.540043 -14.818908  0.681979  -14.815466  0.396303  0.007375   0.396179   \n",
       "1  26.162258 -17.787855  0.742909  -17.782109  0.320234  0.005074   0.320231   \n",
       "2  32.816748 -25.844743  1.853357  -25.812503  0.213585  0.006465   0.213687   \n",
       "3  19.257909  -4.683564  0.359292   -4.670982  0.757041  0.012617   0.756872   \n",
       "4  15.497732  -3.490016  0.306524   -3.487460  0.775103  0.014233   0.775022   \n",
       "\n",
       "      K.mean      K.sd   K.median  \n",
       "0   9.444339  0.405853   9.434647  \n",
       "1  11.687572  0.469452  11.682121  \n",
       "2  14.972180  1.058652  14.938265  \n",
       "3   8.885572  0.328489   8.881961  \n",
       "4   6.800502  0.257384   6.796968  "
      ]
     },
     "execution_count": 3,
     "metadata": {},
     "output_type": "execute_result"
    }
   ],
   "source": [
    "import pandas as pd\n",
    "\n",
    "# Load the data\n",
    "data = pd.read_csv(\"EFC_StreamMetabolismSummary.csv\")\n",
    "\n",
    "# Display the first few rows of the dataframe\n",
    "data.head()\n"
   ]
  },
  {
   "cell_type": "markdown",
   "id": "d22e953ae243e1a9",
   "metadata": {},
   "source": [
    "Make a plot of GPP.mean versus ER.mean with error bars defined by GPP.sd and ER.sd. Add a reference line with a slope of 1 and intercept of zero."
   ]
  },
  {
   "cell_type": "code",
   "execution_count": 5,
   "id": "c6c8718fe00b4226",
   "metadata": {
    "ExecuteTime": {
     "end_time": "2023-09-13T20:08:41.237090Z",
     "start_time": "2023-09-13T20:08:40.207551400Z"
    },
    "collapsed": false,
    "jupyter": {
     "outputs_hidden": false
    }
   },
   "outputs": [
    {
     "name": "stderr",
     "output_type": "stream",
     "text": [
      "Matplotlib is building the font cache; this may take a moment.\n"
     ]
    },
    {
     "data": {
      "image/png": "[encoded data removed]",
      "text/plain": [
       "<Figure size 1000x800 with 1 Axes>"
      ]
     },
     "metadata": {},
     "output_type": "display_data"
    }
   ],
   "source": [
    "import matplotlib.pyplot as plt\n",
    "import numpy as np\n",
    "\n",
    "# Extract relevant data\n",
    "x = data['GPP.mean']\n",
    "y = data['ER.mean']\n",
    "x_err = data['GPP.sd']\n",
    "y_err = data['ER.sd']\n",
    "\n",
    "# Extract unique device names for coloring\n",
    "devices = data['Device'].unique()\n",
    "colors = plt.cm.viridis(np.linspace(0, 1, len(devices)))\n",
    "\n",
    "# Define colorblind-friendly palette\n",
    "colorblind_palette = ['#0173B2', '#DE8F05', '#029E73', '#D55E00', '#CC78BC', '#CA9161', '#FBAFE4']\n",
    "\n",
    "# Ensure we have enough colors in our palette\n",
    "if len(devices) > len(colorblind_palette):\n",
    "    # If not, we will cycle the palette\n",
    "    colorblind_palette = colorblind_palette * (len(devices) // len(colorblind_palette) + 1)\n",
    "\n",
    "# Plotting\n",
    "plt.figure(figsize=(10, 8))\n",
    "\n",
    "# Plotting data points colored by device\n",
    "for device, color in zip(devices, colorblind_palette):\n",
    "    mask = data['Device'] == device\n",
    "    plt.errorbar(x[mask], y[mask], xerr=x_err[mask], yerr=y_err[mask], fmt='o', label=device, color=color, capsize=5)\n",
    "\n",
    "# Add reference line with slope of 1 and intercept of 0\n",
    "xlims = plt.gca().get_xlim()\n",
    "ylims = plt.gca().get_ylim()\n",
    "max_limit = max(max(xlims), max(ylims))\n",
    "plt.plot([0, max_limit], [0, max_limit], 'r--', label='y=x Reference Line')\n",
    "\n",
    "plt.title('GPP.mean vs ER.mean with Error Bars (Colorblind-friendly)')\n",
    "plt.xlabel('GPP.mean')\n",
    "plt.ylabel('ER.mean')\n",
    "plt.legend()\n",
    "plt.grid(True)\n",
    "plt.tight_layout()\n",
    "plt.show()\n"
   ]
  },
  {
   "cell_type": "markdown",
   "id": "2950d93626475da1",
   "metadata": {},
   "source": [
    "Make a time series plot of GPP.mean, ER.mean, and NEP.mean with error bars defined by GPP.sd, ER.sd, and NEP.sd. x = \"Date\". Use a colorblind-friendly palette. Save the plot as a svg file."
   ]
  },
  {
   "cell_type": "code",
   "execution_count": 7,
   "id": "1dff7c1182902e63",
   "metadata": {
    "ExecuteTime": {
     "end_time": "2023-09-13T20:08:41.258923Z",
     "start_time": "2023-09-13T20:08:41.240089Z"
    },
    "collapsed": false,
    "jupyter": {
     "outputs_hidden": false
    }
   },
   "outputs": [
    {
     "data": {
      "text/plain": [
       "0   2022-05-24\n",
       "1   2022-05-25\n",
       "2   2022-05-26\n",
       "3   2022-06-04\n",
       "4   2022-06-05\n",
       "Name: Date, dtype: datetime64[ns]"
      ]
     },
     "execution_count": 7,
     "metadata": {},
     "output_type": "execute_result"
    }
   ],
   "source": [
    "# Convert \"Date\" column to datetime format\n",
    "data['Date'] = pd.to_datetime(data['Date'])\n",
    "\n",
    "# Verify the conversion\n",
    "data['Date'].head()"
   ]
  },
  {
   "cell_type": "code",
   "execution_count": 15,
   "id": "f3f5a4b31f35fcf7",
   "metadata": {
    "ExecuteTime": {
     "end_time": "2023-09-13T20:08:42.317478400Z",
     "start_time": "2023-09-13T20:08:41.257923600Z"
    },
    "collapsed": false,
    "jupyter": {
     "outputs_hidden": false
    }
   },
   "outputs": [],
   "source": [
    "# Define series and their respective errors\n",
    "series = {\n",
    "    \"GPP.mean\": \"GPP.sd\",\n",
    "    \"ER.mean\": \"ER.sd\",\n",
    "    \"NEP.mean\": \"NEP.sd\"\n",
    "}\n",
    "\n",
    "import seaborn as sns\n",
    "sns.set()\n",
    "\n",
    "plt.figure(figsize=(12, 8))\n",
    "\n",
    "# Define colors for each series\n",
    "colors = ['red', 'green', 'blue']\n",
    "\n",
    "# Plot each series with error bars\n",
    "for i, (key, value) in enumerate(series.items()):\n",
    "    sns.lineplot(x=data['Date'], y=data[key], label=key, color=colors[i])\n",
    "    plt.fill_between(data['Date'], data[key] - data[value], data[key] + data[value], color=colors[i], alpha=0.2)\n",
    "\n",
    "plt.title('Time Series of GPP.mean, ER.mean, and NEP.mean with Error Bars')\n",
    "plt.xlabel('Date')\n",
    "plt.ylabel('Value')\n",
    "plt.legend()\n",
    "plt.grid(True)\n",
    "plt.tight_layout()\n",
    "\n",
    "# Save the plot as an SVG file\n",
    "output_path_ts_simple = \"Time_Series_Plot.svg\"\n",
    "plt.savefig(output_path_ts_simple, format=\"svg\")\n",
    "plt.close()\n"
   ]
  },
  {
   "cell_type": "code",
   "execution_count": null,
   "id": "9cf56ea265313b9e",
   "metadata": {
    "ExecuteTime": {
     "end_time": "2023-09-13T20:08:42.327472400Z",
     "start_time": "2023-09-13T20:08:42.322475200Z"
    },
    "collapsed": false,
    "jupyter": {
     "outputs_hidden": false
    }
   },
   "outputs": [],
   "source": []
  }
 ],
 "metadata": {
  "kernelspec": {
   "display_name": "anaconda-panel-2023.05-py310",
   "language": "python",
   "name": "conda-env-anaconda-panel-2023.05-py310-py"
  },
  "language_info": {
   "codemirror_mode": {
    "name": "ipython",
    "version": 3
   },
   "file_extension": ".py",
   "mimetype": "text/x-python",
   "name": "python",
   "nbconvert_exporter": "python",
   "pygments_lexer": "ipython3",
   "version": "3.11.5"
  }
 },
 "nbformat": 4,
 "nbformat_minor": 5
}
